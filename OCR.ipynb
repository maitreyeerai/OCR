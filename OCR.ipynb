{
  "nbformat": 4,
  "nbformat_minor": 0,
  "metadata": {
    "colab": {
      "name": "OCR.ipynb",
      "provenance": []
    },
    "kernelspec": {
      "name": "python3",
      "display_name": "Python 3"
    },
    "language_info": {
      "name": "python"
    }
  },
  "cells": [
    {
      "cell_type": "code",
      "execution_count": 1,
      "metadata": {
        "id": "6R75lLZLTWYv",
        "colab": {
          "base_uri": "https://localhost:8080/",
          "height": 1000
        },
        "outputId": "cfebe13b-5241-4b11-9543-1b4c8d9882be"
      },
      "outputs": [
        {
          "output_type": "stream",
          "name": "stdout",
          "text": [
            "Prediction Accuracy: 95.0%\n",
            "\n"
          ]
        },
        {
          "output_type": "display_data",
          "data": {
            "text/plain": [
              "<Figure size 72x72 with 1 Axes>"
            ],
            "image/png": "[encoded data removed]"
          },
          "metadata": {
            "needs_background": "light"
          }
        },
        {
          "output_type": "stream",
          "name": "stdout",
          "text": [
            "Predicted value: 7\n",
            "\n"
          ]
        },
        {
          "output_type": "display_data",
          "data": {
            "text/plain": [
              "<Figure size 72x72 with 1 Axes>"
            ],
            "image/png": "[encoded data removed]"
          },
          "metadata": {
            "needs_background": "light"
          }
        },
        {
          "output_type": "stream",
          "name": "stdout",
          "text": [
            "Predicted value: 2\n",
            "\n"
          ]
        },
        {
          "output_type": "display_data",
          "data": {
            "text/plain": [
              "<Figure size 72x72 with 1 Axes>"
            ],
            "image/png": "[encoded data removed]"
          },
          "metadata": {
            "needs_background": "light"
          }
        },
        {
          "output_type": "stream",
          "name": "stdout",
          "text": [
            "Predicted value: 1\n",
            "\n"
          ]
        },
        {
          "output_type": "display_data",
          "data": {
            "text/plain": [
              "<Figure size 72x72 with 1 Axes>"
            ],
            "image/png": "[encoded data removed]"
          },
          "metadata": {
            "needs_background": "light"
          }
        },
        {
          "output_type": "stream",
          "name": "stdout",
          "text": [
            "Predicted value: 0\n",
            "\n"
          ]
        },
        {
          "output_type": "display_data",
          "data": {
            "text/plain": [
              "<Figure size 72x72 with 1 Axes>"
            ],
            "image/png": "[encoded data removed]"
          },
          "metadata": {
            "needs_background": "light"
          }
        },
        {
          "output_type": "stream",
          "name": "stdout",
          "text": [
            "Predicted value: 4\n",
            "\n"
          ]
        },
        {
          "output_type": "display_data",
          "data": {
            "text/plain": [
              "<Figure size 72x72 with 1 Axes>"
            ],
            "image/png": "[encoded data removed]"
          },
          "metadata": {
            "needs_background": "light"
          }
        },
        {
          "output_type": "stream",
          "name": "stdout",
          "text": [
            "Predicted value: 1\n",
            "\n"
          ]
        },
        {
          "output_type": "display_data",
          "data": {
            "text/plain": [
              "<Figure size 72x72 with 1 Axes>"
            ],
            "image/png": "[encoded data removed]"
          },
          "metadata": {
            "needs_background": "light"
          }
        },
        {
          "output_type": "stream",
          "name": "stdout",
          "text": [
            "Predicted value: 4\n",
            "\n"
          ]
        },
        {
          "output_type": "display_data",
          "data": {
            "text/plain": [
              "<Figure size 72x72 with 1 Axes>"
            ],
            "image/png": "[encoded data removed]"
          },
          "metadata": {
            "needs_background": "light"
          }
        },
        {
          "output_type": "stream",
          "name": "stdout",
          "text": [
            "Predicted value: 9\n",
            "\n"
          ]
        },
        {
          "output_type": "display_data",
          "data": {
            "text/plain": [
              "<Figure size 72x72 with 1 Axes>"
            ],
            "image/png": "[encoded data removed]"
          },
          "metadata": {
            "needs_background": "light"
          }
        },
        {
          "output_type": "stream",
          "name": "stdout",
          "text": [
            "Predicted value: 6\n",
            "\n"
          ]
        },
        {
          "output_type": "display_data",
          "data": {
            "text/plain": [
              "<Figure size 72x72 with 1 Axes>"
            ],
            "image/png": "[encoded data removed]"
          },
          "metadata": {
            "needs_background": "light"
          }
        },
        {
          "output_type": "stream",
          "name": "stdout",
          "text": [
            "Predicted value: 9\n",
            "\n"
          ]
        },
        {
          "output_type": "display_data",
          "data": {
            "text/plain": [
              "<Figure size 72x72 with 1 Axes>"
            ],
            "image/png": "[encoded data removed]"
          },
          "metadata": {
            "needs_background": "light"
          }
        },
        {
          "output_type": "stream",
          "name": "stdout",
          "text": [
            "Predicted value: 0\n",
            "\n"
          ]
        },
        {
          "output_type": "display_data",
          "data": {
            "text/plain": [
              "<Figure size 72x72 with 1 Axes>"
            ],
            "image/png": "[encoded data removed]"
          },
          "metadata": {
            "needs_background": "light"
          }
        },
        {
          "output_type": "stream",
          "name": "stdout",
          "text": [
            "Predicted value: 6\n",
            "\n"
          ]
        },
        {
          "output_type": "display_data",
          "data": {
            "text/plain": [
              "<Figure size 72x72 with 1 Axes>"
            ],
            "image/png": "[encoded data removed]"
          },
          "metadata": {
            "needs_background": "light"
          }
        },
        {
          "output_type": "stream",
          "name": "stdout",
          "text": [
            "Predicted value: 9\n",
            "\n"
          ]
        },
        {
          "output_type": "display_data",
          "data": {
            "text/plain": [
              "<Figure size 72x72 with 1 Axes>"
            ],
            "image/png": "[encoded data removed]"
          },
          "metadata": {
            "needs_background": "light"
          }
        },
        {
          "output_type": "stream",
          "name": "stdout",
          "text": [
            "Predicted value: 0\n",
            "\n"
          ]
        },
        {
          "output_type": "display_data",
          "data": {
            "text/plain": [
              "<Figure size 72x72 with 1 Axes>"
            ],
            "image/png": "[encoded data removed]"
          },
          "metadata": {
            "needs_background": "light"
          }
        },
        {
          "output_type": "stream",
          "name": "stdout",
          "text": [
            "Predicted value: 1\n",
            "\n"
          ]
        },
        {
          "output_type": "display_data",
          "data": {
            "text/plain": [
              "<Figure size 72x72 with 1 Axes>"
            ],
            "image/png": "[encoded data removed]"
          },
          "metadata": {
            "needs_background": "light"
          }
        },
        {
          "output_type": "stream",
          "name": "stdout",
          "text": [
            "Predicted value: 5\n",
            "\n"
          ]
        },
        {
          "output_type": "display_data",
          "data": {
            "text/plain": [
              "<Figure size 72x72 with 1 Axes>"
            ],
            "image/png": "[encoded data removed]"
          },
          "metadata": {
            "needs_background": "light"
          }
        },
        {
          "output_type": "stream",
          "name": "stdout",
          "text": [
            "Predicted value: 9\n",
            "\n"
          ]
        },
        {
          "output_type": "display_data",
          "data": {
            "text/plain": [
              "<Figure size 72x72 with 1 Axes>"
            ],
            "image/png": "[encoded data removed]"
          },
          "metadata": {
            "needs_background": "light"
          }
        },
        {
          "output_type": "stream",
          "name": "stdout",
          "text": [
            "Predicted value: 7\n",
            "\n"
          ]
        },
        {
          "output_type": "display_data",
          "data": {
            "text/plain": [
              "<Figure size 72x72 with 1 Axes>"
            ],
            "image/png": "[encoded data removed]"
          },
          "metadata": {
            "needs_background": "light"
          }
        },
        {
          "output_type": "stream",
          "name": "stdout",
          "text": [
            "Predicted value: 3\n",
            "\n"
          ]
        },
        {
          "output_type": "display_data",
          "data": {
            "text/plain": [
              "<Figure size 72x72 with 1 Axes>"
            ],
            "image/png": "[encoded data removed]"
          },
          "metadata": {
            "needs_background": "light"
          }
        },
        {
          "output_type": "stream",
          "name": "stdout",
          "text": [
            "Predicted value: 4\n",
            "\n"
          ]
        }
      ],
      "source": [
        "from PIL import Image\n",
        "import numpy as np\n",
        "import cv2 as cv\n",
        "import matplotlib.pyplot as plt\n",
        "\n",
        "def write_image(image, path):\n",
        "  img = Image.fromarray(np.array(image), 'L')\n",
        "  img.save(path)\n",
        "\n",
        "#Reading the files\n",
        "\n",
        "TestDataFile = 't10k-images.idx3-ubyte'\n",
        "TestLabelFile = 't10k-labels.idx1-ubyte'\n",
        "TrainDataFile = 'train-images.idx3-ubyte'\n",
        "TrainLabelFile = 'train-labels.idx1-ubyte'\n",
        "\n",
        "def byte_to_int(byte_data):\n",
        "  return int.from_bytes(byte_data, 'big')\n",
        "\n",
        "def read_images(file, n_max_img=None):\n",
        "  images = []\n",
        "  with open(file, 'rb') as f:\n",
        "    _ = f.read(4) #magic number\n",
        "    n_images = byte_to_int(f.read(4)) #4 bytes as the data type is 32 but interger\n",
        "    if n_max_img:\n",
        "      n_images = n_max_img\n",
        "    n_rows = byte_to_int(f.read(4))\n",
        "    n_columns = byte_to_int(f.read(4))\n",
        "    for img_idx in range(n_images):\n",
        "      image = []\n",
        "      for row_idx in range(n_rows):\n",
        "        row = []\n",
        "        for col_idx in range(n_columns):\n",
        "          pixel = f.read(1)\n",
        "          row.append(pixel)\n",
        "        image.append(row)\n",
        "      images.append(image)\n",
        "  return images\n",
        "\n",
        "def read_labels(file, n_max_lab=None):\n",
        "  labels = []\n",
        "  with open(file, 'rb') as f:\n",
        "    _ = f.read(4) #magic number\n",
        "    n_labels = byte_to_int(f.read(4)) \n",
        "    if n_max_lab:\n",
        "      n_labels = n_max_lab\n",
        "    for label_idx in range(n_labels):\n",
        "      label = f.read(1)\n",
        "      labels.append(label)\n",
        "  return labels\n",
        "\n",
        "#Making 2-D list to 1-D\n",
        "\n",
        "def flatten_list(l):\n",
        "  return [pixel for sublist in l for pixel in sublist]\n",
        "\n",
        "def extract_features(X):\n",
        "  return [flatten_list(sample) for sample in X]\n",
        "\n",
        "#Implementing K-nearest neighbours\n",
        "\n",
        "def dist(x,y): #euclidean distance\n",
        "  return sum((byte_to_int(x_i) - byte_to_int(y_i))**2 for x_i, y_i in zip(x,y))**(0.5)\n",
        "\n",
        "def get_training_distance(X_train,test_sample):\n",
        "  return [dist(train_sample, test_sample) for train_sample in X_train]\n",
        "\n",
        "def get_freq_element(l):\n",
        "  return max(l, key=l.count)\n",
        "\n",
        "def knn(X_train, y_train, X_test, k=3):\n",
        "  y_pred = []\n",
        "  for test_sample in X_test:\n",
        "    training_distances = get_training_distance(X_train, test_sample)\n",
        "    sorted_distance_indices = [ \n",
        "            pair[0]\n",
        "            for pair in sorted(enumerate(training_distances), key=lambda x: x[1])\n",
        "    ]\n",
        "    guesses = [\n",
        "        byte_to_int(y_train[idx])\n",
        "        for idx in sorted_distance_indices[:k]\n",
        "    ]\n",
        "    top_guess = get_freq_element(guesses)\n",
        "    y_pred.append(top_guess)\n",
        "  return y_pred\n",
        "\n",
        "X_train = read_images(TrainDataFile, 3000)\n",
        "y_train = read_labels(TrainLabelFile, 3000)\n",
        "X_test = read_images(TestDataFile, 20)\n",
        "y_test = read_labels(TestLabelFile, 20)\n",
        "\n",
        "for idx, test_sample in enumerate(X_test):\n",
        "  write_image(test_sample, f'{idx}.png')\n",
        "\n",
        "X_train = extract_features(X_train)\n",
        "X_test = extract_features(X_test)\n",
        "\n",
        "y_pred = knn(X_train, y_train, X_test, 5)\n",
        "\n",
        "accuracy = sum([\n",
        "        y_pred_i == byte_to_int(y_test_i)\n",
        "        for y_pred_i, y_test_i in zip(y_pred, y_test)]) / len(y_test)\n",
        "\n",
        "print(f'Prediction Accuracy: {accuracy*100}%\\n')\n",
        "\n",
        "for idx,num in enumerate(y_pred):\n",
        "  img = cv.imread(f'{idx}.png', cv.IMREAD_GRAYSCALE)\n",
        "  plt.figure(figsize=(1,1))\n",
        "  plt.imshow(img,cmap='gray',vmin=0,vmax=255)\n",
        "  plt.axis('off')\n",
        "  plt.show()\n",
        "  print(f'Predicted value: {y_pred[idx]}\\n')"
      ]
    }
  ]
}